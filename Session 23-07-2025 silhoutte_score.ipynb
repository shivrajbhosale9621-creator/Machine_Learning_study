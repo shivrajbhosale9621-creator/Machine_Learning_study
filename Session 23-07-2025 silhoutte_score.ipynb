{
 "cells": [
  {
   "cell_type": "markdown",
   "id": "b3044898-2f49-43eb-9261-52e5e18819f1",
   "metadata": {},
   "source": [
    "## silhoutte_score\n",
    "\n",
    "- which data points belongs to which cluster and is that point happy or not"
   ]
  },
  {
   "cell_type": "code",
   "execution_count": 1,
   "id": "044bb51f-4b32-4be6-8966-5085f3964f71",
   "metadata": {},
   "outputs": [],
   "source": [
    "import pandas as pd\n",
    "data=pd.read_csv(r\"C:\\Data Sets\\Mall_Customers.csv\")"
   ]
  },
  {
   "cell_type": "code",
   "execution_count": 2,
   "id": "0daae558-7c0f-44ff-bf29-7ca0f9114ceb",
   "metadata": {},
   "outputs": [
    {
     "data": {
      "text/plain": [
       "Index(['CustomerID', 'Genre', 'Age', 'Annual Income (k$)',\n",
       "       'Spending Score (1-100)'],\n",
       "      dtype='object')"
      ]
     },
     "execution_count": 2,
     "metadata": {},
     "output_type": "execute_result"
    }
   ],
   "source": [
    "data.columns"
   ]
  },
  {
   "cell_type": "code",
   "execution_count": 3,
   "id": "7d20fc34-029d-4163-a7d7-735d7d2c1c91",
   "metadata": {},
   "outputs": [
    {
     "data": {
      "text/plain": [
       "array([3, 4, 3, 4, 3, 4, 3, 4, 3, 4, 3, 4, 3, 4, 3, 4, 3, 4, 3, 4, 3, 4,\n",
       "       3, 4, 3, 4, 3, 4, 3, 4, 3, 4, 3, 4, 3, 4, 3, 4, 3, 4, 3, 4, 3, 1,\n",
       "       3, 4, 1, 1, 1, 1, 1, 1, 1, 1, 1, 1, 1, 1, 1, 1, 1, 1, 1, 1, 1, 1,\n",
       "       1, 1, 1, 1, 1, 1, 1, 1, 1, 1, 1, 1, 1, 1, 1, 1, 1, 1, 1, 1, 1, 1,\n",
       "       1, 1, 1, 1, 1, 1, 1, 1, 1, 1, 1, 1, 1, 1, 1, 1, 1, 1, 1, 1, 1, 1,\n",
       "       1, 1, 1, 1, 1, 1, 1, 1, 1, 1, 1, 1, 1, 2, 0, 2, 1, 2, 0, 2, 0, 2,\n",
       "       0, 2, 0, 2, 0, 2, 0, 2, 0, 2, 1, 2, 0, 2, 0, 2, 0, 2, 0, 2, 0, 2,\n",
       "       0, 2, 0, 2, 0, 2, 0, 2, 0, 2, 0, 2, 0, 2, 0, 2, 0, 2, 0, 2, 0, 2,\n",
       "       0, 2, 0, 2, 0, 2, 0, 2, 0, 2, 0, 2, 0, 2, 0, 2, 0, 2, 0, 2, 0, 2,\n",
       "       0, 2])"
      ]
     },
     "execution_count": 3,
     "metadata": {},
     "output_type": "execute_result"
    }
   ],
   "source": [
    "from sklearn.cluster import KMeans\n",
    "from sklearn.metrics import silhouette_score\n",
    "import numpy as np\n",
    "import warnings\n",
    "warnings.filterwarnings('ignore')\n",
    "X=data[['Annual Income (k$)','Spending Score (1-100)']].values\n",
    "kmeans=KMeans(n_clusters=5)\n",
    "kmeans.fit(X)\n",
    "kmeans.labels_\n"
   ]
  },
  {
   "cell_type": "code",
   "execution_count": 5,
   "id": "f20c3930-e06f-4884-bdee-c30ea2a4d144",
   "metadata": {},
   "outputs": [
    {
     "data": {
      "text/plain": [
       "0.5532176107575425"
      ]
     },
     "execution_count": 5,
     "metadata": {},
     "output_type": "execute_result"
    }
   ],
   "source": [
    "silhouette_score(X,kmeans.labels_)"
   ]
  },
  {
   "cell_type": "markdown",
   "id": "cd3068b3-da20-4d62-923a-2b86401df160",
   "metadata": {},
   "source": [
    "- Shilhoutte sore will give an idea of how the choosen clusters are well seprated\n",
    "\n",
    "- In above problem we choosen 5 clusters\n",
    "\n",
    "- and silothe score is 0.55\n",
    "\n",
    "- the chosen clusters moderatly well seprated  or well seprated ,we can find by applying similar\n",
    "\n",
    "    analysiis  on different different clusters"
   ]
  },
  {
   "cell_type": "code",
   "execution_count": 18,
   "id": "61e71bc1-18d5-446d-85a0-019d7b76ce06",
   "metadata": {},
   "outputs": [],
   "source": [
    "from sklearn.cluster import KMeans\n",
    "from sklearn.metrics import silhouette_score\n",
    "\n",
    "shi_score = []\n",
    "\n",
    "X = data[['Annual Income (k$)', 'Spending Score (1-100)']].values\n",
    "\n",
    "for i in range(2, 11):  # silhouette score is undefined for 1 cluster\n",
    "    kmeans = KMeans(n_clusters=i, random_state=0)\n",
    "    kmeans.fit(X)\n",
    "    labels = kmeans.labels_\n",
    "    score = silhouette_score(X, labels)\n",
    "    shi_score.append((f'Cluster count: {i}', score))\n"
   ]
  },
  {
   "cell_type": "code",
   "execution_count": 11,
   "id": "44b85ac8-8fc2-421b-a643-6c591708c6b5",
   "metadata": {},
   "outputs": [],
   "source": [
    "df=pd.DataFrame(shi_score,columns=['Cluster count','silhouette_score'])"
   ]
  },
  {
   "cell_type": "code",
   "execution_count": 13,
   "id": "1d65b506-b2fa-4044-b649-5221a24f7b3e",
   "metadata": {},
   "outputs": [
    {
     "data": {
      "text/plain": [
       "Cluster count       Cluster count: 9\n",
       "silhouette_score            0.553932\n",
       "dtype: object"
      ]
     },
     "execution_count": 13,
     "metadata": {},
     "output_type": "execute_result"
    }
   ],
   "source": [
    "df.max()"
   ]
  },
  {
   "cell_type": "code",
   "execution_count": null,
   "id": "007b502f-8f03-4342-9868-9f4d1a4f72ed",
   "metadata": {},
   "outputs": [],
   "source": []
  },
  {
   "cell_type": "markdown",
   "id": "f926c736-2eb1-49e2-921f-396140975c54",
   "metadata": {},
   "source": [
    "## Hierarchical cluster"
   ]
  },
  {
   "cell_type": "code",
   "execution_count": 19,
   "id": "dd673c4e-bd34-4651-b2d8-572855cfbf0e",
   "metadata": {
    "scrolled": true
   },
   "outputs": [
    {
     "data": {
      "text/plain": [
       "array([[0, 0],\n",
       "       [0, 0],\n",
       "       [0, 0],\n",
       "       [0, 0],\n",
       "       [0, 0],\n",
       "       [0, 0],\n",
       "       [0, 0],\n",
       "       [0, 0],\n",
       "       [0, 0],\n",
       "       [0, 0],\n",
       "       [0, 0],\n",
       "       [0, 0],\n",
       "       [0, 0],\n",
       "       [0, 0],\n",
       "       [0, 0],\n",
       "       [0, 0],\n",
       "       [0, 0],\n",
       "       [0, 0],\n",
       "       [0, 0],\n",
       "       [0, 0],\n",
       "       [0, 0],\n",
       "       [0, 0],\n",
       "       [0, 0],\n",
       "       [0, 0],\n",
       "       [0, 0],\n",
       "       [0, 0],\n",
       "       [0, 0],\n",
       "       [0, 0],\n",
       "       [0, 0],\n",
       "       [0, 0],\n",
       "       [0, 0],\n",
       "       [0, 0],\n",
       "       [0, 0],\n",
       "       [0, 0],\n",
       "       [0, 0],\n",
       "       [0, 0],\n",
       "       [0, 0],\n",
       "       [0, 0],\n",
       "       [0, 0],\n",
       "       [0, 0],\n",
       "       [0, 0],\n",
       "       [0, 0],\n",
       "       [0, 0],\n",
       "       [0, 0],\n",
       "       [0, 0],\n",
       "       [0, 0],\n",
       "       [0, 0],\n",
       "       [0, 0],\n",
       "       [0, 0],\n",
       "       [0, 0],\n",
       "       [0, 0],\n",
       "       [0, 0],\n",
       "       [0, 0],\n",
       "       [0, 0],\n",
       "       [0, 0],\n",
       "       [0, 0],\n",
       "       [0, 0],\n",
       "       [0, 0],\n",
       "       [0, 0],\n",
       "       [0, 0],\n",
       "       [0, 0],\n",
       "       [0, 0],\n",
       "       [0, 0],\n",
       "       [0, 0],\n",
       "       [0, 0],\n",
       "       [0, 0],\n",
       "       [0, 0],\n",
       "       [0, 0],\n",
       "       [0, 0],\n",
       "       [0, 0],\n",
       "       [0, 0],\n",
       "       [0, 0],\n",
       "       [0, 0],\n",
       "       [0, 0],\n",
       "       [0, 0],\n",
       "       [0, 0],\n",
       "       [0, 0],\n",
       "       [0, 0],\n",
       "       [0, 0],\n",
       "       [0, 0],\n",
       "       [0, 0],\n",
       "       [0, 0],\n",
       "       [0, 0],\n",
       "       [0, 0],\n",
       "       [0, 0],\n",
       "       [0, 0],\n",
       "       [0, 0],\n",
       "       [0, 0],\n",
       "       [0, 0],\n",
       "       [0, 0],\n",
       "       [0, 0],\n",
       "       [0, 0],\n",
       "       [0, 0],\n",
       "       [0, 0],\n",
       "       [0, 0],\n",
       "       [0, 0],\n",
       "       [0, 0],\n",
       "       [0, 0],\n",
       "       [0, 0],\n",
       "       [0, 0],\n",
       "       [0, 0],\n",
       "       [0, 0],\n",
       "       [0, 0],\n",
       "       [0, 0],\n",
       "       [0, 0],\n",
       "       [0, 0],\n",
       "       [0, 0],\n",
       "       [0, 0],\n",
       "       [0, 0],\n",
       "       [0, 0],\n",
       "       [0, 0],\n",
       "       [0, 0],\n",
       "       [0, 0],\n",
       "       [0, 0],\n",
       "       [0, 0],\n",
       "       [0, 0],\n",
       "       [0, 0],\n",
       "       [0, 0],\n",
       "       [0, 0],\n",
       "       [0, 0],\n",
       "       [0, 0],\n",
       "       [0, 0],\n",
       "       [0, 0],\n",
       "       [0, 0],\n",
       "       [0, 0],\n",
       "       [0, 0],\n",
       "       [0, 0],\n",
       "       [0, 0],\n",
       "       [0, 0],\n",
       "       [0, 0],\n",
       "       [0, 0],\n",
       "       [0, 0],\n",
       "       [0, 0],\n",
       "       [0, 0],\n",
       "       [0, 0],\n",
       "       [0, 0],\n",
       "       [0, 0],\n",
       "       [0, 0],\n",
       "       [0, 0],\n",
       "       [0, 0],\n",
       "       [0, 0],\n",
       "       [0, 0],\n",
       "       [0, 0],\n",
       "       [0, 0],\n",
       "       [0, 0],\n",
       "       [0, 0],\n",
       "       [0, 0],\n",
       "       [0, 0],\n",
       "       [0, 0],\n",
       "       [0, 0],\n",
       "       [0, 0],\n",
       "       [0, 0],\n",
       "       [0, 0],\n",
       "       [0, 0],\n",
       "       [0, 0],\n",
       "       [0, 0],\n",
       "       [0, 0],\n",
       "       [0, 0],\n",
       "       [0, 0],\n",
       "       [0, 0],\n",
       "       [0, 0],\n",
       "       [0, 0],\n",
       "       [0, 0],\n",
       "       [0, 0],\n",
       "       [0, 0],\n",
       "       [0, 0],\n",
       "       [0, 0],\n",
       "       [0, 0],\n",
       "       [0, 0],\n",
       "       [0, 0],\n",
       "       [0, 0],\n",
       "       [0, 0],\n",
       "       [0, 0],\n",
       "       [0, 0],\n",
       "       [0, 0],\n",
       "       [0, 0],\n",
       "       [0, 0],\n",
       "       [0, 0],\n",
       "       [0, 0],\n",
       "       [0, 0],\n",
       "       [0, 0],\n",
       "       [0, 0],\n",
       "       [0, 0],\n",
       "       [0, 0],\n",
       "       [0, 0],\n",
       "       [0, 0],\n",
       "       [0, 0],\n",
       "       [0, 0],\n",
       "       [0, 0],\n",
       "       [0, 0],\n",
       "       [0, 0],\n",
       "       [0, 0],\n",
       "       [0, 0],\n",
       "       [0, 0],\n",
       "       [0, 0],\n",
       "       [0, 0],\n",
       "       [0, 0],\n",
       "       [0, 0],\n",
       "       [0, 0],\n",
       "       [0, 0]], dtype=int64)"
      ]
     },
     "execution_count": 19,
     "metadata": {},
     "output_type": "execute_result"
    }
   ],
   "source": [
    "import matplotlib.pyplot as plt\n",
    "\n",
    "# Read the data\n",
    "data=pd.read_csv(r\"C:\\Data Sets\\Mall_Customers.csv\")\n",
    "X-data.iloc[:,[3,4]].values"
   ]
  },
  {
   "cell_type": "code",
   "execution_count": 20,
   "id": "cb53ffe9-c4ae-4c85-b74b-1e630d0d1b84",
   "metadata": {},
   "outputs": [],
   "source": [
    "import scipy.cluster.hierarchy as sch"
   ]
  },
  {
   "cell_type": "markdown",
   "id": "e469c66f-687b-4442-a6d6-5f7597ebc260",
   "metadata": {},
   "source": [
    "## Linkage function\n",
    "\n",
    "- Every observation consider as one cluster"
   ]
  },
  {
   "cell_type": "code",
   "execution_count": 21,
   "id": "5bfe9c0f-c1bd-4a44-8cd3-4a2fd5a64f86",
   "metadata": {},
   "outputs": [
    {
     "data": {
      "text/plain": [
       "array([[ 48.        ,  49.        ,   0.        ,   2.        ],\n",
       "       [ 65.        ,  68.        ,   0.        ,   2.        ],\n",
       "       [156.        , 158.        ,   0.        ,   2.        ],\n",
       "       [129.        , 131.        ,   0.        ,   2.        ],\n",
       "       [ 67.        ,  69.        ,   1.        ,   2.        ],\n",
       "       [ 64.        ,  66.        ,   1.        ,   2.        ],\n",
       "       [ 60.        ,  61.        ,   1.        ,   2.        ],\n",
       "       [ 63.        , 201.        ,   1.        ,   3.        ],\n",
       "       [ 51.        ,  53.        ,   1.        ,   2.        ],\n",
       "       [ 74.        ,  77.        ,   1.        ,   2.        ],\n",
       "       [ 85.        , 209.        ,   1.        ,   3.        ],\n",
       "       [ 79.        ,  82.        ,   1.        ,   2.        ],\n",
       "       [ 78.        ,  80.        ,   1.        ,   2.        ],\n",
       "       [ 76.        , 212.        ,   1.        ,   3.        ],\n",
       "       [ 75.        , 213.        ,   1.        ,   4.        ],\n",
       "       [ 81.        , 214.        ,   1.        ,   5.        ],\n",
       "       [103.        , 104.        ,   1.        ,   2.        ],\n",
       "       [101.        , 109.        ,   1.        ,   2.        ],\n",
       "       [ 92.        ,  99.        ,   1.        ,   2.        ],\n",
       "       [ 97.        , 218.        ,   1.        ,   3.        ],\n",
       "       [107.        , 113.        ,   1.        ,   2.        ],\n",
       "       [ 98.        , 105.        ,   1.        ,   2.        ],\n",
       "       [ 94.        , 221.        ,   1.        ,   3.        ],\n",
       "       [100.        , 222.        ,   1.        ,   4.        ],\n",
       "       [119.        , 120.        ,   1.        ,   2.        ],\n",
       "       [ 21.        ,  23.        ,   1.        ,   2.        ],\n",
       "       [150.        , 154.        ,   1.        ,   2.        ],\n",
       "       [170.        , 174.        ,   1.        ,   2.        ],\n",
       "       [151.        , 155.        ,   1.        ,   2.        ],\n",
       "       [149.        , 228.        ,   1.        ,   3.        ],\n",
       "       [ 26.        ,  28.        ,   1.41421356,   2.        ],\n",
       "       [ 40.        ,  42.        ,   1.41421356,   2.        ],\n",
       "       [ 54.        ,  57.        ,   1.41421356,   2.        ],\n",
       "       [ 62.        , 205.        ,   1.41421356,   3.        ],\n",
       "       [ 58.        , 233.        ,   1.41421356,   4.        ],\n",
       "       [ 70.        ,  73.        ,   1.41421356,   2.        ],\n",
       "       [111.        , 216.        ,   1.41421356,   3.        ],\n",
       "       [217.        , 219.        ,   1.41421356,   5.        ],\n",
       "       [108.        , 223.        ,   1.41421356,   5.        ],\n",
       "       [ 91.        , 238.        ,   1.41421356,   6.        ],\n",
       "       [ 93.        , 239.        ,   1.41421356,   7.        ],\n",
       "       [112.        , 240.        ,   1.41421356,   8.        ],\n",
       "       [116.        , 241.        ,   1.41421356,   9.        ],\n",
       "       [126.        , 132.        ,   1.41421356,   2.        ],\n",
       "       [  3.        ,   5.        ,   1.41421356,   2.        ],\n",
       "       [ 10.        ,  12.        ,   1.41421356,   2.        ],\n",
       "       [ 14.        , 245.        ,   1.41421356,   3.        ],\n",
       "       [137.        , 139.        ,   1.41421356,   2.        ],\n",
       "       [147.        , 159.        ,   1.41421356,   2.        ],\n",
       "       [ 59.        , 232.        ,   2.        ,   3.        ],\n",
       "       [204.        , 234.        ,   2.        ,   6.        ],\n",
       "       [ 83.        , 210.        ,   2.        ,   4.        ],\n",
       "       [211.        , 251.        ,   2.        ,   6.        ],\n",
       "       [ 84.        , 215.        ,   2.        ,   6.        ],\n",
       "       [ 87.        ,  90.        ,   2.        ,   2.        ],\n",
       "       [110.        , 236.        ,   2.        ,   4.        ],\n",
       "       [106.        , 255.        ,   2.        ,   5.        ],\n",
       "       [237.        , 256.        ,   2.        ,  10.        ],\n",
       "       [ 95.        , 257.        ,   2.        ,  11.        ],\n",
       "       [ 96.        , 258.        ,   2.        ,  12.        ],\n",
       "       [220.        , 259.        ,   2.        ,  14.        ],\n",
       "       [114.        , 260.        ,   2.        ,  15.        ],\n",
       "       [115.        , 261.        ,   2.        ,  16.        ],\n",
       "       [118.        , 242.        ,   2.        ,  10.        ],\n",
       "       [ 13.        ,  15.        ,   2.        ,   2.        ],\n",
       "       [  2.        ,   6.        ,   2.        ,   2.        ],\n",
       "       [148.        , 152.        ,   2.        ,   2.        ],\n",
       "       [128.        , 130.        ,   2.        ,   2.        ],\n",
       "       [134.        , 136.        ,   2.        ,   2.        ],\n",
       "       [140.        , 268.        ,   2.        ,   3.        ],\n",
       "       [176.        , 227.        ,   2.        ,   3.        ],\n",
       "       [153.        , 157.        ,   2.        ,   2.        ],\n",
       "       [165.        , 171.        ,   2.        ,   2.        ],\n",
       "       [  0.        ,   4.        ,   2.23606798,   2.        ],\n",
       "       [249.        , 250.        ,   2.23606798,   9.        ],\n",
       "       [ 56.        , 274.        ,   2.23606798,  10.        ],\n",
       "       [ 72.        , 275.        ,   2.23606798,  11.        ],\n",
       "       [ 50.        ,  52.        ,   2.23606798,   2.        ],\n",
       "       [ 86.        ,  88.        ,   2.23606798,   2.        ],\n",
       "       [ 89.        , 262.        ,   2.23606798,  17.        ],\n",
       "       [122.        , 224.        ,   2.23606798,   3.        ],\n",
       "       [146.        , 160.        ,   2.23606798,   2.        ],\n",
       "       [186.        , 190.        ,   2.23606798,   2.        ],\n",
       "       [164.        , 168.        ,   2.23606798,   2.        ],\n",
       "       [133.        , 247.        ,   2.23606798,   3.        ],\n",
       "       [125.        , 203.        ,   2.23606798,   3.        ],\n",
       "       [248.        , 271.        ,   2.23606798,   4.        ],\n",
       "       [143.        , 229.        ,   2.23606798,   4.        ],\n",
       "       [181.        , 183.        ,   2.23606798,   2.        ],\n",
       "       [187.        , 191.        ,   2.23606798,   2.        ],\n",
       "       [ 38.        ,  44.        ,   2.82842712,   2.        ],\n",
       "       [276.        , 277.        ,   2.82842712,  13.        ],\n",
       "       [117.        , 280.        ,   2.82842712,   4.        ],\n",
       "       [267.        , 269.        ,   2.82842712,   5.        ],\n",
       "       [284.        , 285.        ,   2.82842712,   6.        ],\n",
       "       [ 16.        ,  20.        ,   3.        ,   2.        ],\n",
       "       [206.        , 235.        ,   3.        ,   4.        ],\n",
       "       [252.        , 253.        ,   3.        ,  12.        ],\n",
       "       [254.        , 297.        ,   3.        ,  14.        ],\n",
       "       [278.        , 298.        ,   3.        ,  16.        ],\n",
       "       [279.        , 299.        ,   3.        ,  33.        ],\n",
       "       [102.        , 300.        ,   3.        ,  34.        ],\n",
       "       [263.        , 301.        ,   3.        ,  44.        ],\n",
       "       [292.        , 302.        ,   3.        ,  48.        ],\n",
       "       [121.        , 303.        ,   3.        ,  49.        ],\n",
       "       [ 30.        ,  32.        ,   3.        ,   2.        ],\n",
       "       [226.        , 266.        ,   3.        ,   4.        ],\n",
       "       [172.        , 270.        ,   3.        ,   4.        ],\n",
       "       [ 55.        , 200.        ,   3.16227766,   3.        ],\n",
       "       [ 46.        , 291.        ,   3.16227766,  14.        ],\n",
       "       [296.        , 309.        ,   3.16227766,  18.        ],\n",
       "       [207.        , 310.        ,   3.16227766,  21.        ],\n",
       "       [ 43.        , 208.        ,   3.16227766,   3.        ],\n",
       "       [244.        , 264.        ,   3.16227766,   4.        ],\n",
       "       [ 34.        ,  36.        ,   3.16227766,   2.        ],\n",
       "       [  8.        , 265.        ,   3.16227766,   3.        ],\n",
       "       [138.        , 293.        ,   3.16227766,   6.        ],\n",
       "       [135.        , 287.        ,   3.16227766,   5.        ],\n",
       "       [167.        , 173.        ,   3.16227766,   2.        ],\n",
       "       [ 47.        , 311.        ,   3.60555128,  22.        ],\n",
       "       [ 37.        ,  39.        ,   3.60555128,   2.        ],\n",
       "       [144.        , 316.        ,   3.60555128,   7.        ],\n",
       "       [286.        , 294.        ,   3.60555128,  10.        ],\n",
       "       [308.        , 319.        ,   4.        ,  25.        ],\n",
       "       [ 45.        , 312.        ,   4.        ,   4.        ],\n",
       "       [ 31.        , 320.        ,   4.        ,   3.        ],\n",
       "       [323.        , 324.        ,   4.12310563,  29.        ],\n",
       "       [304.        , 326.        ,   4.12310563,  78.        ],\n",
       "       [142.        , 281.        ,   4.12310563,   3.        ],\n",
       "       [  1.        , 313.        ,   4.12310563,   5.        ],\n",
       "       [306.        , 321.        ,   4.12310563,  11.        ],\n",
       "       [ 11.        ,  19.        ,   4.12310563,   2.        ],\n",
       "       [141.        , 317.        ,   4.24264069,   6.        ],\n",
       "       [163.        , 332.        ,   4.24264069,   7.        ],\n",
       "       [  9.        , 329.        ,   4.47213595,   6.        ],\n",
       "       [127.        , 333.        ,   4.47213595,   8.        ],\n",
       "       [123.        , 335.        ,   4.47213595,   9.        ],\n",
       "       [145.        , 336.        ,   4.47213595,  10.        ],\n",
       "       [230.        , 295.        ,   5.        ,   4.        ],\n",
       "       [ 71.        , 327.        ,   5.        ,  79.        ],\n",
       "       [225.        , 325.        ,   5.        ,   5.        ],\n",
       "       [ 33.        ,  41.        ,   5.        ,   2.        ],\n",
       "       [ 24.        , 314.        ,   5.        ,   3.        ],\n",
       "       [202.        , 330.        ,   5.        ,  13.        ],\n",
       "       [162.        , 343.        ,   5.        ,  14.        ],\n",
       "       [161.        , 337.        ,   5.        ,  11.        ],\n",
       "       [334.        , 340.        ,   5.09901951,  11.        ],\n",
       "       [ 25.        ,  35.        ,   5.09901951,   2.        ],\n",
       "       [ 29.        , 347.        ,   5.09901951,   3.        ],\n",
       "       [ 22.        , 305.        ,   5.09901951,   3.        ],\n",
       "       [178.        , 307.        ,   5.09901951,   5.        ],\n",
       "       [182.        , 350.        ,   5.09901951,   6.        ],\n",
       "       [  7.        , 331.        ,   5.09901951,   3.        ],\n",
       "       [322.        , 345.        ,   5.09901951,  21.        ],\n",
       "       [124.        , 243.        ,   5.38516481,   3.        ],\n",
       "       [328.        , 354.        ,   5.38516481,   6.        ],\n",
       "       [166.        , 351.        ,   5.38516481,   7.        ],\n",
       "       [188.        , 356.        ,   5.38516481,   8.        ],\n",
       "       [318.        , 353.        ,   5.38516481,  23.        ],\n",
       "       [179.        , 288.        ,   5.38516481,   3.        ],\n",
       "       [ 18.        , 338.        ,   5.83095189,   5.        ],\n",
       "       [189.        , 359.        ,   5.83095189,   4.        ],\n",
       "       [282.        , 357.        ,   6.        ,  10.        ],\n",
       "       [231.        , 339.        ,   6.08276253,  81.        ],\n",
       "       [283.        , 362.        ,   6.08276253,  12.        ],\n",
       "       [175.        , 358.        ,   6.08276253,  24.        ],\n",
       "       [177.        , 272.        ,   6.08276253,   3.        ],\n",
       "       [169.        , 366.        ,   6.08276253,   4.        ],\n",
       "       [ 17.        , 346.        ,   6.32455532,  12.        ],\n",
       "       [315.        , 349.        ,   6.32455532,   6.        ],\n",
       "       [361.        , 365.        ,   6.32455532,  28.        ],\n",
       "       [273.        , 360.        ,   6.40312424,   7.        ],\n",
       "       [355.        , 363.        ,   6.40312424,  87.        ],\n",
       "       [341.        , 348.        ,   6.40312424,   5.        ],\n",
       "       [290.        , 372.        ,   7.07106781,  89.        ],\n",
       "       [367.        , 370.        ,   7.07106781,  32.        ],\n",
       "       [368.        , 373.        ,   7.21110255,  17.        ],\n",
       "       [246.        , 369.        ,   7.28010989,   9.        ],\n",
       "       [180.        , 184.        ,   7.28010989,   2.        ],\n",
       "       [344.        , 364.        ,   7.81024968,  26.        ],\n",
       "       [195.        , 197.        ,   7.81024968,   2.        ],\n",
       "       [342.        , 377.        ,   8.06225775,  12.        ],\n",
       "       [ 27.        , 376.        ,   8.60232527,  18.        ],\n",
       "       [378.        , 379.        ,   8.94427191,  28.        ],\n",
       "       [185.        , 375.        ,   9.05538514,  33.        ],\n",
       "       [371.        , 374.        ,   9.43398113,  96.        ],\n",
       "       [382.        , 385.        ,   9.43398113, 114.        ],\n",
       "       [381.        , 386.        ,   9.48683298, 126.        ],\n",
       "       [383.        , 387.        ,  10.63014581, 154.        ],\n",
       "       [192.        , 194.        ,  10.63014581,   2.        ],\n",
       "       [352.        , 388.        ,  11.66190379, 157.        ],\n",
       "       [193.        , 384.        ,  11.66190379,  34.        ],\n",
       "       [289.        , 391.        ,  13.03840481,  36.        ],\n",
       "       [390.        , 392.        ,  13.34166406, 193.        ],\n",
       "       [196.        , 389.        ,  13.41640786,   3.        ],\n",
       "       [393.        , 394.        ,  13.45362405, 196.        ],\n",
       "       [380.        , 395.        ,  13.89244399, 198.        ],\n",
       "       [199.        , 396.        ,  14.2126704 , 199.        ],\n",
       "       [198.        , 397.        ,  14.86606875, 200.        ]])"
      ]
     },
     "execution_count": 21,
     "metadata": {},
     "output_type": "execute_result"
    }
   ],
   "source": [
    "sch.linkage(X,method='single')"
   ]
  },
  {
   "cell_type": "code",
   "execution_count": 22,
   "id": "6fdaca66-0570-4b2f-a150-36d973eb3ca0",
   "metadata": {},
   "outputs": [
    {
     "data": {
      "image/png": "[encoded data removed]",
      "text/plain": [
       "<Figure size 1000x1000 with 1 Axes>"
      ]
     },
     "metadata": {},
     "output_type": "display_data"
    }
   ],
   "source": [
    "# Dendogram using single\n",
    "plt.figure(figsize=(10,10))\n",
    "dendogram=sch.dendrogram(sch.linkage(X,method='single'))\n",
    "plt.title(\"Dendrogram\")\n",
    "plt.xlabel(\"Suctomers\")\n",
    "plt.ylabel(\"Distance\")\n",
    "plt.show()"
   ]
  },
  {
   "cell_type": "code",
   "execution_count": 24,
   "id": "ba3c32a7-ec65-4cd1-80c0-1199e97ec73c",
   "metadata": {},
   "outputs": [
    {
     "data": {
      "image/png": "[encoded data removed]",
      "text/plain": [
       "<Figure size 640x480 with 1 Axes>"
      ]
     },
     "metadata": {},
     "output_type": "display_data"
    }
   ],
   "source": [
    "dendogram=sch.dendrogram(sch.linkage(X,method='complete'))\n",
    "plt.title(\"Dendogram\")\n",
    "plt.xlabel(\"Clusters\")\n",
    "plt.ylabel(\"Distance\")\n",
    "plt.show()"
   ]
  },
  {
   "cell_type": "markdown",
   "id": "e245e46a-24da-4579-97ee-4f50b8e07e33",
   "metadata": {},
   "source": [
    "- single linkage is used when data is irregular shape\n",
    "\n",
    "   - Analogy: In a classroom all the students stay together by holding hands\n",
    "   - minimum distance\n",
    "\n",
    "- Complete linkage is used to if we went to well spereate all the data points\n",
    "\n",
    "    - In a classroom every student is form a group\n",
    "    - each group maintain a distance\n",
    "\n",
    "- warnd method works baed on wcss(inertia) mainly on numerical clumns\n",
    "\n",
    "   - Students froms groups those student are happy\n",
    "     "
   ]
  },
  {
   "cell_type": "code",
   "execution_count": 27,
   "id": "8a6d93c4-b94e-45be-a4ac-7231a0a0f013",
   "metadata": {},
   "outputs": [
    {
     "data": {
      "text/plain": [
       "array([4, 3, 4, 3, 4, 3, 4, 3, 4, 3, 4, 3, 4, 3, 4, 3, 4, 3, 4, 3, 4, 3,\n",
       "       4, 3, 4, 3, 4, 3, 4, 3, 4, 3, 4, 3, 4, 3, 4, 3, 4, 3, 4, 3, 4, 1,\n",
       "       4, 1, 1, 1, 1, 1, 1, 1, 1, 1, 1, 1, 1, 1, 1, 1, 1, 1, 1, 1, 1, 1,\n",
       "       1, 1, 1, 1, 1, 1, 1, 1, 1, 1, 1, 1, 1, 1, 1, 1, 1, 1, 1, 1, 1, 1,\n",
       "       1, 1, 1, 1, 1, 1, 1, 1, 1, 1, 1, 1, 1, 1, 1, 1, 1, 1, 1, 1, 1, 1,\n",
       "       1, 1, 1, 1, 1, 1, 1, 1, 1, 1, 1, 1, 1, 2, 1, 2, 1, 2, 0, 2, 0, 2,\n",
       "       1, 2, 0, 2, 0, 2, 0, 2, 0, 2, 1, 2, 0, 2, 1, 2, 0, 2, 0, 2, 0, 2,\n",
       "       0, 2, 0, 2, 0, 2, 1, 2, 0, 2, 0, 2, 0, 2, 0, 2, 0, 2, 0, 2, 0, 2,\n",
       "       0, 2, 0, 2, 0, 2, 0, 2, 0, 2, 0, 2, 0, 2, 0, 2, 0, 2, 0, 2, 0, 2,\n",
       "       0, 2], dtype=int64)"
      ]
     },
     "execution_count": 27,
     "metadata": {},
     "output_type": "execute_result"
    }
   ],
   "source": [
    "from sklearn.cluster import AgglomerativeClustering\n",
    "import warnings\n",
    "warnings.filterwarnings(\"ignore\")\n",
    "hc=AgglomerativeClustering(n_clusters=5,\n",
    "                         metric='euclidean',\n",
    "                         linkage='ward')\n",
    "y_hc=hc.fit_predict(X)\n",
    "y_hc\n",
    "# if you getting error affinity\n",
    "#metric='eulcidean'"
   ]
  },
  {
   "cell_type": "code",
   "execution_count": null,
   "id": "14228212-8791-4018-801a-551f66c68fc6",
   "metadata": {},
   "outputs": [],
   "source": []
  }
 ],
 "metadata": {
  "kernelspec": {
   "display_name": "Python 3 (ipykernel)",
   "language": "python",
   "name": "python3"
  },
  "language_info": {
   "codemirror_mode": {
    "name": "ipython",
    "version": 3
   },
   "file_extension": ".py",
   "mimetype": "text/x-python",
   "name": "python",
   "nbconvert_exporter": "python",
   "pygments_lexer": "ipython3",
   "version": "3.12.7"
  }
 },
 "nbformat": 4,
 "nbformat_minor": 5
}
